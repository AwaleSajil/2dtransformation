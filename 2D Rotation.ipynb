{
 "cells": [
  {
   "cell_type": "code",
   "execution_count": 5,
   "metadata": {},
   "outputs": [
    {
     "name": "stdout",
     "output_type": "stream",
     "text": [
      "points [[ 0  0]\n",
      " [15  0]\n",
      " [15 25]\n",
      " [ 0 25]\n",
      " [ 0  0]]\n",
      "shiftpoints [[ 0  0]\n",
      " [15  0]\n",
      " [15 25]\n",
      " [ 0 25]\n",
      " [ 0  0]]\n",
      "newpoints [[  0.           0.        ]\n",
      " [ 10.60660172 -10.60660172]\n",
      " [ 28.28427125   7.07106781]\n",
      " [ 17.67766953  17.67766953]\n",
      " [  0.           0.        ]]\n"
     ]
    }
   ],
   "source": [
    "import numpy as np\n",
    "from matplotlib import pyplot as plt\n",
    "from math import sin, cos, radians\n",
    "%matplotlib inline\n",
    "\n",
    "#points = np.random.randint(low = -15, high= 15, size= (4, 2))\n",
    "points = np.array([[0,0],\n",
    "                  [15,0],\n",
    "                  [15,25],\n",
    "                  [0,25]])\n",
    "points = np.vstack((points, points[0]))\n",
    "\n",
    "pivot = np.array([0,0])\n",
    "\n",
    "angle  = -45\n",
    "R = np.array([[cos(radians(angle)), sin(radians(angle))],\n",
    "            [-sin(radians(angle)), cos(radians(angle))]])\n",
    "\n",
    "shiftpoints = points - pivot\n",
    "newpoints = np.dot(shiftpoints, R)\n",
    "\n",
    "print(\"points\", points)\n",
    "print(\"shiftpoints\", shiftpoints)\n",
    "print(\"newpoints\", newpoints)"
   ]
  },
  {
   "cell_type": "code",
   "execution_count": 6,
   "metadata": {},
   "outputs": [
    {
     "data": {
      "text/plain": [
       "[<matplotlib.lines.Line2D at 0x120760e6c88>]"
      ]
     },
     "execution_count": 6,
     "metadata": {},
     "output_type": "execute_result"
    },
    {
     "data": {
      "image/png": "[encoded data removed]",
      "text/plain": [
       "<Figure size 432x288 with 1 Axes>"
      ]
     },
     "metadata": {
      "needs_background": "light"
     },
     "output_type": "display_data"
    }
   ],
   "source": [
    "plt.plot(points[:,0], points[:,1])\n",
    "plt.plot(newpoints[:,0], newpoints[:,1])"
   ]
  },
  {
   "cell_type": "code",
   "execution_count": null,
   "metadata": {},
   "outputs": [],
   "source": []
  }
 ],
 "metadata": {
  "kernelspec": {
   "display_name": "Python 3",
   "language": "python",
   "name": "python3"
  },
  "language_info": {
   "codemirror_mode": {
    "name": "ipython",
    "version": 3
   },
   "file_extension": ".py",
   "mimetype": "text/x-python",
   "name": "python",
   "nbconvert_exporter": "python",
   "pygments_lexer": "ipython3",
   "version": "3.7.0"
  }
 },
 "nbformat": 4,
 "nbformat_minor": 2
}
