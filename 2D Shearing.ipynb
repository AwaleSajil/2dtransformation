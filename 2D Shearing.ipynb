{
 "cells": [
  {
   "cell_type": "code",
   "execution_count": 25,
   "metadata": {},
   "outputs": [
    {
     "name": "stdout",
     "output_type": "stream",
     "text": [
      "points [[ 0.  0.  1.]\n",
      " [15.  0.  1.]\n",
      " [15. 25.  1.]\n",
      " [ 0. 25.  1.]\n",
      " [ 0.  0.  1.]]\n",
      "shiftpoints [[ 0.  0.  0.]\n",
      " [15.  0.  0.]\n",
      " [15. 25.  0.]\n",
      " [ 0. 25.  0.]\n",
      " [ 0.  0.  0.]]\n",
      "newpoints [[ 0.  0.  0.]\n",
      " [15.  0.  0.]\n",
      " [65. 25.  0.]\n",
      " [50. 25.  0.]\n",
      " [ 0.  0.  0.]]\n"
     ]
    }
   ],
   "source": [
    "import numpy as np\n",
    "from matplotlib import pyplot as plt\n",
    "%matplotlib inline\n",
    "\n",
    "#points = np.random.randint(low = -15, high= 15, size= (4, 2))\n",
    "points = np.array([[0,0],\n",
    "                  [15,0],\n",
    "                  [15,25],\n",
    "                  [0,25]])\n",
    "points = np.vstack((points, points[0]))\n",
    "\n",
    "one = np.ones((points.shape[0], 1))\n",
    "points = np.hstack((points, one))\n",
    "\n",
    "pivot = np.array([0,0,1])\n",
    "\n",
    "shx = 0\n",
    "shy = 2\n",
    "shear = np.array([[1, shx, 0],\n",
    "                [shy, 1, 0],\n",
    "                [0, 0, 1]])\n",
    "\n",
    "shiftpoints = points - pivot\n",
    "newpoints = np.dot(shiftpoints, shear)\n",
    "\n",
    "print(\"points\", points)\n",
    "print(\"shiftpoints\", shiftpoints)\n",
    "print(\"newpoints\", newpoints)"
   ]
  },
  {
   "cell_type": "code",
   "execution_count": 26,
   "metadata": {},
   "outputs": [
    {
     "data": {
      "text/plain": [
       "[<matplotlib.lines.Line2D at 0x1e3d23bf6a0>]"
      ]
     },
     "execution_count": 26,
     "metadata": {},
     "output_type": "execute_result"
    },
    {
     "data": {
      "image/png": "[encoded data removed]",
      "text/plain": [
       "<Figure size 432x288 with 1 Axes>"
      ]
     },
     "metadata": {
      "needs_background": "light"
     },
     "output_type": "display_data"
    }
   ],
   "source": [
    "plt.plot(points[:,0], points[:,1])\n",
    "plt.plot(newpoints[:,0], newpoints[:,1])"
   ]
  },
  {
   "cell_type": "code",
   "execution_count": null,
   "metadata": {},
   "outputs": [],
   "source": []
  }
 ],
 "metadata": {
  "kernelspec": {
   "display_name": "Python 3",
   "language": "python",
   "name": "python3"
  },
  "language_info": {
   "codemirror_mode": {
    "name": "ipython",
    "version": 3
   },
   "file_extension": ".py",
   "mimetype": "text/x-python",
   "name": "python",
   "nbconvert_exporter": "python",
   "pygments_lexer": "ipython3",
   "version": "3.7.0"
  }
 },
 "nbformat": 4,
 "nbformat_minor": 2
}
